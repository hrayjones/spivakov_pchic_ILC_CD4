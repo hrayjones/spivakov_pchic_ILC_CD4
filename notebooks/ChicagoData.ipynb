{
 "cells": [
  {
   "cell_type": "markdown",
   "metadata": {},
   "source": [
    "# ChicagoData detailed walkthrough"
   ]
  },
  {
   "cell_type": "markdown",
   "metadata": {},
   "source": [
    "## Imports and Functions"
   ]
  },
  {
   "cell_type": "code",
   "execution_count": 1,
   "metadata": {},
   "outputs": [],
   "source": [
    "import pandas as pd"
   ]
  },
  {
   "cell_type": "code",
   "execution_count": 9,
   "metadata": {},
   "outputs": [],
   "source": [
    "class ChicagoData(object):\n",
    "    \"\"\"Import CHICACO data\n",
    "    \"\"\"\n",
    "    def __init__(self,\n",
    "                 filename: str,\n",
    "                 dropna: bool = True,\n",
    "                 drop_off_target: bool = True,\n",
    "                 drop_trans_chrom: bool = True,\n",
    "                 score_col: str = None,\n",
    "                 score_val: int = 5\n",
    "                 ):\n",
    "        \"\"\"Initialize the object\n",
    "\n",
    "        Args:\n",
    "            filename (str): Input CHICAGO txt file\n",
    "            dropna (bool, optional): Drop the interactions with NA. Defaults to =True.\n",
    "            drop_off_target (bool, optional): Drop off target interactions. Defaults to =True.\n",
    "            drop_trans_chrom (bool, optional): Drop transchromosomal interactions. Defaults to =True.\n",
    "        \"\"\"\n",
    "        # Set filename to the input filename\n",
    "        self.filename = filename\n",
    "        # Set whether to drop na interactions\n",
    "        self.dropna = dropna\n",
    "        # Set whether to drop off target\n",
    "        self.drop_off_target = drop_off_target\n",
    "        # Set whether to drop transchromosomal interactions\n",
    "        self.drop_trans_chrom = drop_trans_chrom\n",
    "        # Score column name for filtering\n",
    "        self.score_col = score_col\n",
    "        # Score value threshold\n",
    "        self.score_val = score_val\n",
    "        \n",
    "        # Read file into DF\n",
    "        self._read_file_()\n",
    "        \n",
    "        # Format the DF\n",
    "        self._format_file_()\n",
    "        \n",
    "        # Filter the formatted DF\n",
    "        self._filter_file_()\n",
    "\n",
    "        # Get the PIR df\n",
    "        self._get_PIR_df_()\n",
    "        \n",
    "    def _read_file_(self):\n",
    "        \"\"\"Read in original file\n",
    "        \"\"\"\n",
    "        # Read in original file and save\n",
    "        self.input_df =  pd.read_csv(self.filename, sep=\"\\t\", header=0, low_memory=False)\n",
    "    \n",
    "    def _format_file_(self):\n",
    "        \"\"\"Format CHICAGO file\n",
    "        \"\"\"\n",
    "        # Create a copy of the raw input to be manipulated\n",
    "        df = self.input_df.copy()\n",
    "        \n",
    "        # Format the chromosome names\n",
    "        df[\"baitChr\"] = \"chr\" + df[\"baitChr\"].apply(str)\n",
    "        df[\"oeChr\"] = \"chr\" + df[\"oeChr\"].apply(str)\n",
    "        \n",
    "        # Create an ID column that can be used to track the intervals\n",
    "        df[\"ID\"] = df[\"baitChr\"] + \":\" + \\\n",
    "                   df[\"baitStart\"].apply(str) + \"-\" + \\\n",
    "                   df[\"baitEnd\"].apply(str) + \"_\" + \\\n",
    "                   df[\"oeChr\"] + \":\" + \\\n",
    "                   df[\"oeStart\"].apply(str) + \"-\" + \\\n",
    "                   df[\"oeEnd\"].apply(str)\n",
    "\n",
    "        # Set the variable to the formatted df\n",
    "        self.df = df\n",
    "    \n",
    "    def _filter_file_(self):\n",
    "        \"\"\"Filter the formatted CHICAGO results\n",
    "        \"\"\"\n",
    "        # There should not be any NA values in this column, but we will double check\n",
    "        if self.dropna:\n",
    "            self.df.dropna(subset=[\"dist\"], inplace=True)\n",
    "\n",
    "        # Drop the off target baits\n",
    "        if self.drop_off_target_bait:\n",
    "            self.df[self.df[\"baitName\"] != \"off_target\"]\n",
    "\n",
    "        # Drop the off target OE names\n",
    "        if self.drop_off_target_oe:\n",
    "            self.df[self.df[\"oeName\"] != \"off_target\"]\n",
    "\n",
    "        # Drop the trans chromosomal interactions\n",
    "        if self.drop_trans_chrom:\n",
    "            self.df = self.df[self.df[\"baitChr\"] == self.df[\"oeChr\"]]\n",
    "\n",
    "        # Filter the specific score column by a specific value\n",
    "        if self.score_col:\n",
    "            self.df = self.df[self.df[self.score_col] >= self.score_val]\n",
    "            \n",
    "    def _get_PIR_df_(self):\n",
    "        \"\"\"Get a DF of all PIR interactions\n",
    "        \"\"\"\n",
    "        self.pir_df = self.df[[\"oeChr\", \"oeStart\", \"oeEnd\", \"OE_width\"]].drop_duplicates(subset=[\"oeChr\", \"oeStart\", \"oeEnd\"], keep=\"first\")\n",
    "\n",
    "    def write_PIR_bed(self, output_filename): \n",
    "        \"\"\"Write PIRs from the filtered CHICAGO results to a bed file\n",
    "        \"\"\"       \n",
    "        self.pir_df.to_csv(output_filename, sep=\"\\t\", header=False, index=False)\n"
   ]
  },
  {
   "cell_type": "markdown",
   "metadata": {},
   "source": [
    "## Walkthrough\n",
    "\n",
    "We will use the ILC_5kb file as the basis for this example. This file is representative of the data files that we will be working with when we get CHiCAGO data. "
   ]
  },
  {
   "cell_type": "code",
   "execution_count": 17,
   "metadata": {},
   "outputs": [],
   "source": [
    "test_input = \"/Users/caz3so/scratch/20220606_spivakov_pchic_reanalysis/TransferXL-089FGscZhgKG8/ILC_5kb_within_newbmap_CHiCAGO_ABC_peakm.txt\""
   ]
  },
  {
   "cell_type": "markdown",
   "metadata": {},
   "source": [
    "###  self._format_file_()\n",
    "This first method will import the file and do some initial parsing.        "
   ]
  },
  {
   "cell_type": "code",
   "execution_count": 25,
   "metadata": {},
   "outputs": [
    {
     "name": "stderr",
     "output_type": "stream",
     "text": [
      "/var/folders/l1/p6h6vm6j4373qh8mnpcwy2j4fxz3wv/T/ipykernel_59109/3211516557.py:1: DtypeWarning: Columns (0) have mixed types. Specify dtype option on import or set low_memory=False.\n",
      "  df = pd.read_table(test_input, sep=\"\\t\")\n"
     ]
    }
   ],
   "source": [
    "df = pd.read_table(test_input, sep=\"\\t\")"
   ]
  },
  {
   "cell_type": "markdown",
   "metadata": {},
   "source": [
    "#### Column Description\n",
    "* `baitChr`: The chromosome that the bait is located on\n",
    "* `baitStart`: The start position of the bait\n",
    "* `baitEnd`: The end position of the bait\n",
    "* `baitID`: The bait ID\n",
    "* `baitName`: The bait name\n",
    "* `oeChr`: The other end chromosome\n",
    "* `oeStart`: The other end start position\n",
    "* `oeEnd`: The other end End positions\n",
    "* `oeID`: The other end ID\n",
    "* `oeName`: The other end name\n",
    "* `dist`: distance between bait and other end\n",
    "* `ABC.Score`: ABC model scores\n",
    "* `score`: Chicago score\n",
    "* `merged_score`: Composite score for Chicago and ABC models\n",
    "* `TargetGene`: The targeted gene\n",
    "* `remove_line`: Ignore"
   ]
  },
  {
   "cell_type": "code",
   "execution_count": 26,
   "metadata": {},
   "outputs": [
    {
     "data": {
      "text/plain": [
       "Index(['baitChr', 'baitStart', 'baitEnd', 'baitID', 'baitName', 'oeChr',\n",
       "       'oeStart', 'oeEnd', 'oeID', 'oeName', 'dist', 'ABC.Score', 'score',\n",
       "       'merged_score', 'TargetGene', 'remove_line'],\n",
       "      dtype='object')"
      ]
     },
     "execution_count": 26,
     "metadata": {},
     "output_type": "execute_result"
    }
   ],
   "source": [
    "df.columns"
   ]
  },
  {
   "cell_type": "code",
   "execution_count": 27,
   "metadata": {},
   "outputs": [
    {
     "data": {
      "text/html": [
       "<div>\n",
       "<style scoped>\n",
       "    .dataframe tbody tr th:only-of-type {\n",
       "        vertical-align: middle;\n",
       "    }\n",
       "\n",
       "    .dataframe tbody tr th {\n",
       "        vertical-align: top;\n",
       "    }\n",
       "\n",
       "    .dataframe thead th {\n",
       "        text-align: right;\n",
       "    }\n",
       "</style>\n",
       "<table border=\"1\" class=\"dataframe\">\n",
       "  <thead>\n",
       "    <tr style=\"text-align: right;\">\n",
       "      <th></th>\n",
       "      <th>baitChr</th>\n",
       "      <th>baitStart</th>\n",
       "      <th>baitEnd</th>\n",
       "      <th>baitID</th>\n",
       "      <th>baitName</th>\n",
       "      <th>oeChr</th>\n",
       "      <th>oeStart</th>\n",
       "      <th>oeEnd</th>\n",
       "      <th>oeID</th>\n",
       "      <th>oeName</th>\n",
       "      <th>dist</th>\n",
       "      <th>ABC.Score</th>\n",
       "      <th>score</th>\n",
       "      <th>merged_score</th>\n",
       "      <th>TargetGene</th>\n",
       "      <th>remove_line</th>\n",
       "    </tr>\n",
       "  </thead>\n",
       "  <tbody>\n",
       "    <tr>\n",
       "      <th>0</th>\n",
       "      <td>1</td>\n",
       "      <td>28115</td>\n",
       "      <td>29860</td>\n",
       "      <td>5</td>\n",
       "      <td>WASH7P</td>\n",
       "      <td>1</td>\n",
       "      <td>1</td>\n",
       "      <td>11159</td>\n",
       "      <td>1</td>\n",
       "      <td>.</td>\n",
       "      <td>-23407.5</td>\n",
       "      <td>0.073499</td>\n",
       "      <td>0.0</td>\n",
       "      <td>5.0</td>\n",
       "      <td>WASH7P</td>\n",
       "      <td>False</td>\n",
       "    </tr>\n",
       "    <tr>\n",
       "      <th>1</th>\n",
       "      <td>1</td>\n",
       "      <td>924192</td>\n",
       "      <td>925743</td>\n",
       "      <td>152</td>\n",
       "      <td>SAMD11</td>\n",
       "      <td>1</td>\n",
       "      <td>916863</td>\n",
       "      <td>923071</td>\n",
       "      <td>149</td>\n",
       "      <td>.</td>\n",
       "      <td>-5000.5</td>\n",
       "      <td>0.041623</td>\n",
       "      <td>0.0</td>\n",
       "      <td>5.0</td>\n",
       "      <td>SAMD11</td>\n",
       "      <td>False</td>\n",
       "    </tr>\n",
       "    <tr>\n",
       "      <th>2</th>\n",
       "      <td>1</td>\n",
       "      <td>924192</td>\n",
       "      <td>925743</td>\n",
       "      <td>152</td>\n",
       "      <td>SAMD11</td>\n",
       "      <td>1</td>\n",
       "      <td>916863</td>\n",
       "      <td>923071</td>\n",
       "      <td>149</td>\n",
       "      <td>.</td>\n",
       "      <td>-5000.5</td>\n",
       "      <td>0.049836</td>\n",
       "      <td>0.0</td>\n",
       "      <td>5.0</td>\n",
       "      <td>SAMD11</td>\n",
       "      <td>False</td>\n",
       "    </tr>\n",
       "    <tr>\n",
       "      <th>3</th>\n",
       "      <td>1</td>\n",
       "      <td>924192</td>\n",
       "      <td>925743</td>\n",
       "      <td>152</td>\n",
       "      <td>SAMD11</td>\n",
       "      <td>1</td>\n",
       "      <td>929679</td>\n",
       "      <td>932076</td>\n",
       "      <td>155</td>\n",
       "      <td>SAMD11</td>\n",
       "      <td>5910</td>\n",
       "      <td>0.049944</td>\n",
       "      <td>0.0</td>\n",
       "      <td>5.0</td>\n",
       "      <td>SAMD11</td>\n",
       "      <td>False</td>\n",
       "    </tr>\n",
       "    <tr>\n",
       "      <th>4</th>\n",
       "      <td>1</td>\n",
       "      <td>924192</td>\n",
       "      <td>925743</td>\n",
       "      <td>152</td>\n",
       "      <td>SAMD11</td>\n",
       "      <td>1</td>\n",
       "      <td>939433</td>\n",
       "      <td>944716</td>\n",
       "      <td>159</td>\n",
       "      <td>.</td>\n",
       "      <td>17107</td>\n",
       "      <td>0.033046</td>\n",
       "      <td>0.0</td>\n",
       "      <td>5.0</td>\n",
       "      <td>SAMD11</td>\n",
       "      <td>False</td>\n",
       "    </tr>\n",
       "  </tbody>\n",
       "</table>\n",
       "</div>"
      ],
      "text/plain": [
       "  baitChr  baitStart  baitEnd  baitID baitName oeChr  oeStart   oeEnd  oeID  \\\n",
       "0       1      28115    29860       5   WASH7P     1        1   11159     1   \n",
       "1       1     924192   925743     152   SAMD11     1   916863  923071   149   \n",
       "2       1     924192   925743     152   SAMD11     1   916863  923071   149   \n",
       "3       1     924192   925743     152   SAMD11     1   929679  932076   155   \n",
       "4       1     924192   925743     152   SAMD11     1   939433  944716   159   \n",
       "\n",
       "   oeName      dist  ABC.Score  score  merged_score TargetGene  remove_line  \n",
       "0       .  -23407.5   0.073499    0.0           5.0     WASH7P        False  \n",
       "1       .   -5000.5   0.041623    0.0           5.0     SAMD11        False  \n",
       "2       .   -5000.5   0.049836    0.0           5.0     SAMD11        False  \n",
       "3  SAMD11      5910   0.049944    0.0           5.0     SAMD11        False  \n",
       "4       .     17107   0.033046    0.0           5.0     SAMD11        False  "
      ]
     },
     "execution_count": 27,
     "metadata": {},
     "output_type": "execute_result"
    }
   ],
   "source": [
    "df.head()"
   ]
  },
  {
   "cell_type": "markdown",
   "metadata": {},
   "source": [
    "We start by reformatting the columns. The chromosome string is added to the `baitChr` and `oeChr` columns. "
   ]
  },
  {
   "cell_type": "code",
   "execution_count": 28,
   "metadata": {},
   "outputs": [],
   "source": [
    "# Format the chromosome names\n",
    "df[\"baitChr\"] = \"chr\" + df[\"baitChr\"].apply(str)\n",
    "df[\"oeChr\"] = \"chr\" + df[\"oeChr\"].apply(str)\n"
   ]
  },
  {
   "cell_type": "code",
   "execution_count": 29,
   "metadata": {},
   "outputs": [
    {
     "data": {
      "text/plain": [
       "'chr1'"
      ]
     },
     "execution_count": 29,
     "metadata": {},
     "output_type": "execute_result"
    }
   ],
   "source": [
    "df[\"oeChr\"][0]"
   ]
  },
  {
   "cell_type": "markdown",
   "metadata": {},
   "source": [
    "A column is then created to track each interaction pair. "
   ]
  },
  {
   "cell_type": "code",
   "execution_count": 30,
   "metadata": {},
   "outputs": [],
   "source": [
    "# Create an ID column that can be used to track the intervals\n",
    "df[\"ID\"] = df[\"baitChr\"] + \":\" + \\\n",
    "            df[\"baitStart\"].apply(str) + \"-\" + \\\n",
    "            df[\"baitEnd\"].apply(str) + \"_\" + \\\n",
    "            df[\"oeChr\"] + \":\" + \\\n",
    "            df[\"oeStart\"].apply(str) + \"-\" + \\\n",
    "            df[\"oeEnd\"].apply(str)\n"
   ]
  },
  {
   "cell_type": "code",
   "execution_count": 31,
   "metadata": {},
   "outputs": [
    {
     "data": {
      "text/plain": [
       "'chr1:28115-29860_chr1:1-11159'"
      ]
     },
     "execution_count": 31,
     "metadata": {},
     "output_type": "execute_result"
    }
   ],
   "source": [
    "df[\"ID\"][0]"
   ]
  },
  {
   "cell_type": "markdown",
   "metadata": {},
   "source": [
    "### self._filter_file_()\n",
    "\n",
    "This method will perform the filtering of the file based on the input settings to the class object."
   ]
  },
  {
   "cell_type": "code",
   "execution_count": 34,
   "metadata": {},
   "outputs": [
    {
     "data": {
      "text/plain": [
       "(84682, 17)"
      ]
     },
     "execution_count": 34,
     "metadata": {},
     "output_type": "execute_result"
    }
   ],
   "source": [
    "df.shape"
   ]
  },
  {
   "cell_type": "code",
   "execution_count": 45,
   "metadata": {},
   "outputs": [
    {
     "data": {
      "text/plain": [
       "(84682, 17)"
      ]
     },
     "execution_count": 45,
     "metadata": {},
     "output_type": "execute_result"
    }
   ],
   "source": [
    "df.dropna(subset=[\"dist\"]).shape"
   ]
  },
  {
   "cell_type": "code",
   "execution_count": 38,
   "metadata": {},
   "outputs": [
    {
     "data": {
      "text/plain": [
       "(84675, 17)"
      ]
     },
     "execution_count": 38,
     "metadata": {},
     "output_type": "execute_result"
    }
   ],
   "source": [
    "df[df[\"oeName\"] != \"off_target\"].shape"
   ]
  },
  {
   "cell_type": "code",
   "execution_count": 37,
   "metadata": {},
   "outputs": [
    {
     "data": {
      "text/plain": [
       "(84682, 17)"
      ]
     },
     "execution_count": 37,
     "metadata": {},
     "output_type": "execute_result"
    }
   ],
   "source": [
    "df[df[\"baitName\"] != \"off_target\"].shape"
   ]
  },
  {
   "cell_type": "code",
   "execution_count": 40,
   "metadata": {},
   "outputs": [
    {
     "data": {
      "text/plain": [
       "(84273, 17)"
      ]
     },
     "execution_count": 40,
     "metadata": {},
     "output_type": "execute_result"
    }
   ],
   "source": [
    "df[df[\"baitChr\"] == df[\"oeChr\"]].shape"
   ]
  },
  {
   "cell_type": "code",
   "execution_count": 44,
   "metadata": {},
   "outputs": [
    {
     "data": {
      "text/plain": [
       "(84682, 17)"
      ]
     },
     "execution_count": 44,
     "metadata": {},
     "output_type": "execute_result"
    }
   ],
   "source": [
    "df[df[\"merged_score\"] >= 5].shape"
   ]
  },
  {
   "cell_type": "markdown",
   "metadata": {},
   "source": [
    "If we want drop promoter to promoter interactions we must remove interactions that have names in both the `baitName` and the `oeName` columns. "
   ]
  },
  {
   "cell_type": "code",
   "execution_count": 54,
   "metadata": {},
   "outputs": [
    {
     "data": {
      "text/plain": [
       "(82420, 17)"
      ]
     },
     "execution_count": 54,
     "metadata": {},
     "output_type": "execute_result"
    }
   ],
   "source": [
    "df[df.oeName == \".\"].shape"
   ]
  },
  {
   "cell_type": "code",
   "execution_count": 55,
   "metadata": {},
   "outputs": [
    {
     "data": {
      "text/plain": [
       "(2262, 17)"
      ]
     },
     "execution_count": 55,
     "metadata": {},
     "output_type": "execute_result"
    }
   ],
   "source": [
    "df[df.oeName != \".\"].shape"
   ]
  },
  {
   "cell_type": "code",
   "execution_count": null,
   "metadata": {},
   "outputs": [],
   "source": [
    "# There should not be any NA values in this column, but we will double check\n",
    "if self.dropna:\n",
    "    self.df.dropna(subset=[\"dist\"], inplace=True)\n",
    "\n",
    "# Drop the off target baits\n",
    "if self.drop_off_target_bait:\n",
    "    self.df[self.df[\"baitName\"] != \"off_target\"]\n",
    "\n",
    "if self.drop_off_target_oe:\n",
    "    self.df[self.df[\"oeName\"] != \"off_target\"]\n",
    "\n",
    "if self.drop_trans_chrom:\n",
    "    self.df = self.df[self.df[\"baitChr\"] == self.df[\"oeChr\"]]\n",
    "\n",
    "if self.score_col:\n",
    "    self.df = self.df[self.df[self.score_col] >= 5]\n"
   ]
  }
 ],
 "metadata": {
  "kernelspec": {
   "display_name": "Python 3.9.10 ('maxatac')",
   "language": "python",
   "name": "python3"
  },
  "language_info": {
   "codemirror_mode": {
    "name": "ipython",
    "version": 3
   },
   "file_extension": ".py",
   "mimetype": "text/x-python",
   "name": "python",
   "nbconvert_exporter": "python",
   "pygments_lexer": "ipython3",
   "version": "3.9.10"
  },
  "orig_nbformat": 4,
  "vscode": {
   "interpreter": {
    "hash": "c40e1b489fb11c0bd8cc5a783b5d3b77609a7988a043d25bde579eefe634d11a"
   }
  }
 },
 "nbformat": 4,
 "nbformat_minor": 2
}
